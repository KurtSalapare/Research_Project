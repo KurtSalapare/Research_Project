{
 "cells": [
  {
   "cell_type": "markdown",
   "id": "2a113aa5",
   "metadata": {},
   "source": [
    "Testing Imports and Setting up"
   ]
  },
  {
   "cell_type": "code",
   "execution_count": 17,
   "id": "38efd130",
   "metadata": {},
   "outputs": [
    {
     "name": "stdout",
     "output_type": "stream",
     "text": [
      "Collecting crawl4ai==0.4.248\n",
      "  Downloading Crawl4AI-0.4.248-py3-none-any.whl.metadata (29 kB)\n",
      "Requirement already satisfied: aiosqlite~=0.20 in c:\\users\\kurt salapare\\desktop\\tcs_1\\research project\\research-project-source-code\\venv\\lib\\site-packages (from crawl4ai==0.4.248) (0.21.0)\n",
      "Requirement already satisfied: lxml~=5.3 in c:\\users\\kurt salapare\\desktop\\tcs_1\\research project\\research-project-source-code\\venv\\lib\\site-packages (from crawl4ai==0.4.248) (5.4.0)\n",
      "Requirement already satisfied: litellm>=1.53.1 in c:\\users\\kurt salapare\\desktop\\tcs_1\\research project\\research-project-source-code\\venv\\lib\\site-packages (from crawl4ai==0.4.248) (1.68.0)\n",
      "Requirement already satisfied: numpy<3,>=1.26.0 in c:\\users\\kurt salapare\\desktop\\tcs_1\\research project\\research-project-source-code\\venv\\lib\\site-packages (from crawl4ai==0.4.248) (2.2.5)\n",
      "Requirement already satisfied: pillow~=10.4 in c:\\users\\kurt salapare\\desktop\\tcs_1\\research project\\research-project-source-code\\venv\\lib\\site-packages (from crawl4ai==0.4.248) (10.4.0)\n",
      "Requirement already satisfied: playwright>=1.49.0 in c:\\users\\kurt salapare\\desktop\\tcs_1\\research project\\research-project-source-code\\venv\\lib\\site-packages (from crawl4ai==0.4.248) (1.52.0)\n",
      "Requirement already satisfied: python-dotenv~=1.0 in c:\\users\\kurt salapare\\desktop\\tcs_1\\research project\\research-project-source-code\\venv\\lib\\site-packages (from crawl4ai==0.4.248) (1.1.0)\n",
      "Requirement already satisfied: requests~=2.26 in c:\\users\\kurt salapare\\desktop\\tcs_1\\research project\\research-project-source-code\\venv\\lib\\site-packages (from crawl4ai==0.4.248) (2.32.3)\n",
      "Requirement already satisfied: beautifulsoup4~=4.12 in c:\\users\\kurt salapare\\desktop\\tcs_1\\research project\\research-project-source-code\\venv\\lib\\site-packages (from crawl4ai==0.4.248) (4.13.4)\n",
      "Requirement already satisfied: tf-playwright-stealth>=1.1.0 in c:\\users\\kurt salapare\\desktop\\tcs_1\\research project\\research-project-source-code\\venv\\lib\\site-packages (from crawl4ai==0.4.248) (1.1.2)\n",
      "Requirement already satisfied: xxhash~=3.4 in c:\\users\\kurt salapare\\desktop\\tcs_1\\research project\\research-project-source-code\\venv\\lib\\site-packages (from crawl4ai==0.4.248) (3.5.0)\n",
      "Requirement already satisfied: rank-bm25~=0.2 in c:\\users\\kurt salapare\\desktop\\tcs_1\\research project\\research-project-source-code\\venv\\lib\\site-packages (from crawl4ai==0.4.248) (0.2.2)\n",
      "Requirement already satisfied: aiofiles>=24.1.0 in c:\\users\\kurt salapare\\desktop\\tcs_1\\research project\\research-project-source-code\\venv\\lib\\site-packages (from crawl4ai==0.4.248) (24.1.0)\n",
      "Requirement already satisfied: colorama~=0.4 in c:\\users\\kurt salapare\\desktop\\tcs_1\\research project\\research-project-source-code\\venv\\lib\\site-packages (from crawl4ai==0.4.248) (0.4.6)\n",
      "Requirement already satisfied: snowballstemmer~=2.2 in c:\\users\\kurt salapare\\desktop\\tcs_1\\research project\\research-project-source-code\\venv\\lib\\site-packages (from crawl4ai==0.4.248) (2.2.0)\n",
      "Requirement already satisfied: pydantic>=2.10 in c:\\users\\kurt salapare\\desktop\\tcs_1\\research project\\research-project-source-code\\venv\\lib\\site-packages (from crawl4ai==0.4.248) (2.11.4)\n",
      "Requirement already satisfied: pyOpenSSL>=24.3.0 in c:\\users\\kurt salapare\\desktop\\tcs_1\\research project\\research-project-source-code\\venv\\lib\\site-packages (from crawl4ai==0.4.248) (25.1.0)\n",
      "Requirement already satisfied: psutil>=6.1.1 in c:\\users\\kurt salapare\\desktop\\tcs_1\\research project\\research-project-source-code\\venv\\lib\\site-packages (from crawl4ai==0.4.248) (7.0.0)\n",
      "Requirement already satisfied: nltk>=3.9.1 in c:\\users\\kurt salapare\\desktop\\tcs_1\\research project\\research-project-source-code\\venv\\lib\\site-packages (from crawl4ai==0.4.248) (3.9.1)\n",
      "Requirement already satisfied: rich>=13.9.4 in c:\\users\\kurt salapare\\desktop\\tcs_1\\research project\\research-project-source-code\\venv\\lib\\site-packages (from crawl4ai==0.4.248) (13.9.4)\n",
      "Requirement already satisfied: cssselect>=1.2.0 in c:\\users\\kurt salapare\\desktop\\tcs_1\\research project\\research-project-source-code\\venv\\lib\\site-packages (from crawl4ai==0.4.248) (1.3.0)\n",
      "Collecting httpx==0.27.2 (from crawl4ai==0.4.248)\n",
      "  Downloading httpx-0.27.2-py3-none-any.whl.metadata (7.1 kB)\n",
      "Requirement already satisfied: fake-useragent>=2.0.3 in c:\\users\\kurt salapare\\desktop\\tcs_1\\research project\\research-project-source-code\\venv\\lib\\site-packages (from crawl4ai==0.4.248) (2.2.0)\n",
      "Requirement already satisfied: anyio in c:\\users\\kurt salapare\\desktop\\tcs_1\\research project\\research-project-source-code\\venv\\lib\\site-packages (from httpx==0.27.2->crawl4ai==0.4.248) (4.9.0)\n",
      "Requirement already satisfied: certifi in c:\\users\\kurt salapare\\desktop\\tcs_1\\research project\\research-project-source-code\\venv\\lib\\site-packages (from httpx==0.27.2->crawl4ai==0.4.248) (2025.4.26)\n",
      "Requirement already satisfied: httpcore==1.* in c:\\users\\kurt salapare\\desktop\\tcs_1\\research project\\research-project-source-code\\venv\\lib\\site-packages (from httpx==0.27.2->crawl4ai==0.4.248) (1.0.9)\n",
      "Requirement already satisfied: idna in c:\\users\\kurt salapare\\desktop\\tcs_1\\research project\\research-project-source-code\\venv\\lib\\site-packages (from httpx==0.27.2->crawl4ai==0.4.248) (3.10)\n",
      "Requirement already satisfied: sniffio in c:\\users\\kurt salapare\\desktop\\tcs_1\\research project\\research-project-source-code\\venv\\lib\\site-packages (from httpx==0.27.2->crawl4ai==0.4.248) (1.3.1)\n",
      "Requirement already satisfied: h11>=0.16 in c:\\users\\kurt salapare\\desktop\\tcs_1\\research project\\research-project-source-code\\venv\\lib\\site-packages (from httpcore==1.*->httpx==0.27.2->crawl4ai==0.4.248) (0.16.0)\n",
      "Requirement already satisfied: typing_extensions>=4.0 in c:\\users\\kurt salapare\\desktop\\tcs_1\\research project\\research-project-source-code\\venv\\lib\\site-packages (from aiosqlite~=0.20->crawl4ai==0.4.248) (4.13.2)\n",
      "Requirement already satisfied: soupsieve>1.2 in c:\\users\\kurt salapare\\desktop\\tcs_1\\research project\\research-project-source-code\\venv\\lib\\site-packages (from beautifulsoup4~=4.12->crawl4ai==0.4.248) (2.7)\n",
      "Requirement already satisfied: aiohttp in c:\\users\\kurt salapare\\desktop\\tcs_1\\research project\\research-project-source-code\\venv\\lib\\site-packages (from litellm>=1.53.1->crawl4ai==0.4.248) (3.11.18)\n",
      "Requirement already satisfied: click in c:\\users\\kurt salapare\\desktop\\tcs_1\\research project\\research-project-source-code\\venv\\lib\\site-packages (from litellm>=1.53.1->crawl4ai==0.4.248) (8.2.0)\n",
      "Requirement already satisfied: importlib-metadata>=6.8.0 in c:\\users\\kurt salapare\\desktop\\tcs_1\\research project\\research-project-source-code\\venv\\lib\\site-packages (from litellm>=1.53.1->crawl4ai==0.4.248) (8.6.1)\n",
      "Requirement already satisfied: jinja2<4.0.0,>=3.1.2 in c:\\users\\kurt salapare\\desktop\\tcs_1\\research project\\research-project-source-code\\venv\\lib\\site-packages (from litellm>=1.53.1->crawl4ai==0.4.248) (3.1.6)\n",
      "Requirement already satisfied: jsonschema<5.0.0,>=4.22.0 in c:\\users\\kurt salapare\\desktop\\tcs_1\\research project\\research-project-source-code\\venv\\lib\\site-packages (from litellm>=1.53.1->crawl4ai==0.4.248) (4.23.0)\n",
      "Requirement already satisfied: openai<1.76.0,>=1.68.2 in c:\\users\\kurt salapare\\desktop\\tcs_1\\research project\\research-project-source-code\\venv\\lib\\site-packages (from litellm>=1.53.1->crawl4ai==0.4.248) (1.75.0)\n",
      "Requirement already satisfied: tiktoken>=0.7.0 in c:\\users\\kurt salapare\\desktop\\tcs_1\\research project\\research-project-source-code\\venv\\lib\\site-packages (from litellm>=1.53.1->crawl4ai==0.4.248) (0.9.0)\n",
      "Requirement already satisfied: tokenizers in c:\\users\\kurt salapare\\desktop\\tcs_1\\research project\\research-project-source-code\\venv\\lib\\site-packages (from litellm>=1.53.1->crawl4ai==0.4.248) (0.20.3)\n",
      "Requirement already satisfied: joblib in c:\\users\\kurt salapare\\desktop\\tcs_1\\research project\\research-project-source-code\\venv\\lib\\site-packages (from nltk>=3.9.1->crawl4ai==0.4.248) (1.5.0)\n",
      "Requirement already satisfied: regex>=2021.8.3 in c:\\users\\kurt salapare\\desktop\\tcs_1\\research project\\research-project-source-code\\venv\\lib\\site-packages (from nltk>=3.9.1->crawl4ai==0.4.248) (2024.11.6)\n",
      "Requirement already satisfied: tqdm in c:\\users\\kurt salapare\\desktop\\tcs_1\\research project\\research-project-source-code\\venv\\lib\\site-packages (from nltk>=3.9.1->crawl4ai==0.4.248) (4.67.1)\n",
      "Requirement already satisfied: pyee<14,>=13 in c:\\users\\kurt salapare\\desktop\\tcs_1\\research project\\research-project-source-code\\venv\\lib\\site-packages (from playwright>=1.49.0->crawl4ai==0.4.248) (13.0.0)\n",
      "Requirement already satisfied: greenlet<4.0.0,>=3.1.1 in c:\\users\\kurt salapare\\desktop\\tcs_1\\research project\\research-project-source-code\\venv\\lib\\site-packages (from playwright>=1.49.0->crawl4ai==0.4.248) (3.2.2)\n",
      "Requirement already satisfied: annotated-types>=0.6.0 in c:\\users\\kurt salapare\\desktop\\tcs_1\\research project\\research-project-source-code\\venv\\lib\\site-packages (from pydantic>=2.10->crawl4ai==0.4.248) (0.7.0)\n",
      "Requirement already satisfied: pydantic-core==2.33.2 in c:\\users\\kurt salapare\\desktop\\tcs_1\\research project\\research-project-source-code\\venv\\lib\\site-packages (from pydantic>=2.10->crawl4ai==0.4.248) (2.33.2)\n",
      "Requirement already satisfied: typing-inspection>=0.4.0 in c:\\users\\kurt salapare\\desktop\\tcs_1\\research project\\research-project-source-code\\venv\\lib\\site-packages (from pydantic>=2.10->crawl4ai==0.4.248) (0.4.0)\n",
      "Requirement already satisfied: cryptography<46,>=41.0.5 in c:\\users\\kurt salapare\\desktop\\tcs_1\\research project\\research-project-source-code\\venv\\lib\\site-packages (from pyOpenSSL>=24.3.0->crawl4ai==0.4.248) (44.0.3)\n",
      "Requirement already satisfied: charset-normalizer<4,>=2 in c:\\users\\kurt salapare\\desktop\\tcs_1\\research project\\research-project-source-code\\venv\\lib\\site-packages (from requests~=2.26->crawl4ai==0.4.248) (3.4.2)\n",
      "Requirement already satisfied: urllib3<3,>=1.21.1 in c:\\users\\kurt salapare\\desktop\\tcs_1\\research project\\research-project-source-code\\venv\\lib\\site-packages (from requests~=2.26->crawl4ai==0.4.248) (2.4.0)\n",
      "Requirement already satisfied: markdown-it-py>=2.2.0 in c:\\users\\kurt salapare\\desktop\\tcs_1\\research project\\research-project-source-code\\venv\\lib\\site-packages (from rich>=13.9.4->crawl4ai==0.4.248) (3.0.0)\n",
      "Requirement already satisfied: pygments<3.0.0,>=2.13.0 in c:\\users\\kurt salapare\\desktop\\tcs_1\\research project\\research-project-source-code\\venv\\lib\\site-packages (from rich>=13.9.4->crawl4ai==0.4.248) (2.19.1)\n",
      "Requirement already satisfied: fake-http-header<0.4.0,>=0.3.5 in c:\\users\\kurt salapare\\desktop\\tcs_1\\research project\\research-project-source-code\\venv\\lib\\site-packages (from tf-playwright-stealth>=1.1.0->crawl4ai==0.4.248) (0.3.5)\n",
      "Requirement already satisfied: cffi>=1.12 in c:\\users\\kurt salapare\\desktop\\tcs_1\\research project\\research-project-source-code\\venv\\lib\\site-packages (from cryptography<46,>=41.0.5->pyOpenSSL>=24.3.0->crawl4ai==0.4.248) (1.17.1)\n",
      "Requirement already satisfied: zipp>=3.20 in c:\\users\\kurt salapare\\desktop\\tcs_1\\research project\\research-project-source-code\\venv\\lib\\site-packages (from importlib-metadata>=6.8.0->litellm>=1.53.1->crawl4ai==0.4.248) (3.21.0)\n",
      "Requirement already satisfied: MarkupSafe>=2.0 in c:\\users\\kurt salapare\\desktop\\tcs_1\\research project\\research-project-source-code\\venv\\lib\\site-packages (from jinja2<4.0.0,>=3.1.2->litellm>=1.53.1->crawl4ai==0.4.248) (3.0.2)\n",
      "Requirement already satisfied: attrs>=22.2.0 in c:\\users\\kurt salapare\\desktop\\tcs_1\\research project\\research-project-source-code\\venv\\lib\\site-packages (from jsonschema<5.0.0,>=4.22.0->litellm>=1.53.1->crawl4ai==0.4.248) (25.3.0)\n",
      "Requirement already satisfied: jsonschema-specifications>=2023.03.6 in c:\\users\\kurt salapare\\desktop\\tcs_1\\research project\\research-project-source-code\\venv\\lib\\site-packages (from jsonschema<5.0.0,>=4.22.0->litellm>=1.53.1->crawl4ai==0.4.248) (2025.4.1)\n",
      "Requirement already satisfied: referencing>=0.28.4 in c:\\users\\kurt salapare\\desktop\\tcs_1\\research project\\research-project-source-code\\venv\\lib\\site-packages (from jsonschema<5.0.0,>=4.22.0->litellm>=1.53.1->crawl4ai==0.4.248) (0.36.2)\n",
      "Requirement already satisfied: rpds-py>=0.7.1 in c:\\users\\kurt salapare\\desktop\\tcs_1\\research project\\research-project-source-code\\venv\\lib\\site-packages (from jsonschema<5.0.0,>=4.22.0->litellm>=1.53.1->crawl4ai==0.4.248) (0.24.0)\n",
      "Requirement already satisfied: mdurl~=0.1 in c:\\users\\kurt salapare\\desktop\\tcs_1\\research project\\research-project-source-code\\venv\\lib\\site-packages (from markdown-it-py>=2.2.0->rich>=13.9.4->crawl4ai==0.4.248) (0.1.2)\n",
      "Requirement already satisfied: distro<2,>=1.7.0 in c:\\users\\kurt salapare\\desktop\\tcs_1\\research project\\research-project-source-code\\venv\\lib\\site-packages (from openai<1.76.0,>=1.68.2->litellm>=1.53.1->crawl4ai==0.4.248) (1.9.0)\n",
      "Requirement already satisfied: jiter<1,>=0.4.0 in c:\\users\\kurt salapare\\desktop\\tcs_1\\research project\\research-project-source-code\\venv\\lib\\site-packages (from openai<1.76.0,>=1.68.2->litellm>=1.53.1->crawl4ai==0.4.248) (0.8.2)\n",
      "Requirement already satisfied: aiohappyeyeballs>=2.3.0 in c:\\users\\kurt salapare\\desktop\\tcs_1\\research project\\research-project-source-code\\venv\\lib\\site-packages (from aiohttp->litellm>=1.53.1->crawl4ai==0.4.248) (2.6.1)\n",
      "Requirement already satisfied: aiosignal>=1.1.2 in c:\\users\\kurt salapare\\desktop\\tcs_1\\research project\\research-project-source-code\\venv\\lib\\site-packages (from aiohttp->litellm>=1.53.1->crawl4ai==0.4.248) (1.3.2)\n",
      "Requirement already satisfied: frozenlist>=1.1.1 in c:\\users\\kurt salapare\\desktop\\tcs_1\\research project\\research-project-source-code\\venv\\lib\\site-packages (from aiohttp->litellm>=1.53.1->crawl4ai==0.4.248) (1.6.0)\n",
      "Requirement already satisfied: multidict<7.0,>=4.5 in c:\\users\\kurt salapare\\desktop\\tcs_1\\research project\\research-project-source-code\\venv\\lib\\site-packages (from aiohttp->litellm>=1.53.1->crawl4ai==0.4.248) (6.4.3)\n",
      "Requirement already satisfied: propcache>=0.2.0 in c:\\users\\kurt salapare\\desktop\\tcs_1\\research project\\research-project-source-code\\venv\\lib\\site-packages (from aiohttp->litellm>=1.53.1->crawl4ai==0.4.248) (0.3.1)\n",
      "Requirement already satisfied: yarl<2.0,>=1.17.0 in c:\\users\\kurt salapare\\desktop\\tcs_1\\research project\\research-project-source-code\\venv\\lib\\site-packages (from aiohttp->litellm>=1.53.1->crawl4ai==0.4.248) (1.20.0)\n",
      "Requirement already satisfied: huggingface-hub<1.0,>=0.16.4 in c:\\users\\kurt salapare\\desktop\\tcs_1\\research project\\research-project-source-code\\venv\\lib\\site-packages (from tokenizers->litellm>=1.53.1->crawl4ai==0.4.248) (0.31.2)\n",
      "Requirement already satisfied: pycparser in c:\\users\\kurt salapare\\desktop\\tcs_1\\research project\\research-project-source-code\\venv\\lib\\site-packages (from cffi>=1.12->cryptography<46,>=41.0.5->pyOpenSSL>=24.3.0->crawl4ai==0.4.248) (2.22)\n",
      "Requirement already satisfied: filelock in c:\\users\\kurt salapare\\desktop\\tcs_1\\research project\\research-project-source-code\\venv\\lib\\site-packages (from huggingface-hub<1.0,>=0.16.4->tokenizers->litellm>=1.53.1->crawl4ai==0.4.248) (3.18.0)\n",
      "Requirement already satisfied: fsspec>=2023.5.0 in c:\\users\\kurt salapare\\desktop\\tcs_1\\research project\\research-project-source-code\\venv\\lib\\site-packages (from huggingface-hub<1.0,>=0.16.4->tokenizers->litellm>=1.53.1->crawl4ai==0.4.248) (2025.3.2)\n",
      "Requirement already satisfied: packaging>=20.9 in c:\\users\\kurt salapare\\desktop\\tcs_1\\research project\\research-project-source-code\\venv\\lib\\site-packages (from huggingface-hub<1.0,>=0.16.4->tokenizers->litellm>=1.53.1->crawl4ai==0.4.248) (24.2)\n",
      "Requirement already satisfied: pyyaml>=5.1 in c:\\users\\kurt salapare\\desktop\\tcs_1\\research project\\research-project-source-code\\venv\\lib\\site-packages (from huggingface-hub<1.0,>=0.16.4->tokenizers->litellm>=1.53.1->crawl4ai==0.4.248) (6.0.2)\n",
      "Downloading Crawl4AI-0.4.248-py3-none-any.whl (182 kB)\n",
      "Downloading httpx-0.27.2-py3-none-any.whl (76 kB)\n",
      "Installing collected packages: httpx, crawl4ai\n",
      "  Attempting uninstall: httpx\n",
      "    Found existing installation: httpx 0.28.1\n",
      "    Uninstalling httpx-0.28.1:\n",
      "      Successfully uninstalled httpx-0.28.1\n",
      "  Attempting uninstall: crawl4ai\n",
      "    Found existing installation: Crawl4AI 0.6.3\n",
      "    Uninstalling Crawl4AI-0.6.3:\n",
      "      Successfully uninstalled Crawl4AI-0.6.3\n",
      "Successfully installed crawl4ai-0.4.248 httpx-0.27.2\n"
     ]
    },
    {
     "name": "stderr",
     "output_type": "stream",
     "text": [
      "\n",
      "[notice] A new release of pip is available: 25.0.1 -> 25.1.1\n",
      "[notice] To update, run: python.exe -m pip install --upgrade pip\n"
     ]
    }
   ],
   "source": [
    "!pip install crawl4ai==0.4.248"
   ]
  },
  {
   "cell_type": "code",
   "execution_count": 18,
   "id": "e6456e78",
   "metadata": {},
   "outputs": [
    {
     "name": "stdout",
     "output_type": "stream",
     "text": [
      "0.4.248\n"
     ]
    }
   ],
   "source": [
    "import crawl4ai\n",
    "print(crawl4ai.__version__.__version__)"
   ]
  },
  {
   "cell_type": "code",
   "execution_count": 19,
   "id": "96b4aadd",
   "metadata": {},
   "outputs": [
    {
     "name": "stdout",
     "output_type": "stream",
     "text": [
      "[INIT].... → Running post-installation setup...\n",
      "[INIT].... → Installing Playwright browsers...\n",
      "[COMPLETE] ● Playwright installation completed successfully.\n",
      "[INIT].... → Starting database initialization...\n",
      "[COMPLETE] ● Database initialization completed successfully.\n",
      "[COMPLETE] ● Post-installation setup completed!\n"
     ]
    }
   ],
   "source": [
    "!crawl4ai-setup"
   ]
  },
  {
   "cell_type": "code",
   "execution_count": 20,
   "id": "5464c859",
   "metadata": {},
   "outputs": [
    {
     "name": "stdout",
     "output_type": "stream",
     "text": [
      "[INIT].... → Running Crawl4AI health check...\n",
      "[INIT].... → Crawl4AI 0.4.248\n",
      "[TEST].... ℹ Testing crawling capabilities...\n",
      "[EXPORT].. ℹ Exporting PDF and taking screenshot took 0.91s\n",
      "[FETCH]... ↓ https://crawl4ai.com... | Status: True | Time: 6.12s\n",
      "[SCRAPE].. ◆ Processed https://crawl4ai.com... | Time: 29ms\n",
      "[COMPLETE] ● https://crawl4ai.com... | Status: True | Total: 6.16s\n",
      "[COMPLETE] ● ✅ Crawling test passed!\n"
     ]
    }
   ],
   "source": [
    "!crawl4ai-doctor"
   ]
  },
  {
   "cell_type": "code",
   "execution_count": 27,
   "id": "14c8934a",
   "metadata": {},
   "outputs": [],
   "source": [
    "import nest_asyncio\n",
    "nest_asyncio.apply()"
   ]
  },
  {
   "cell_type": "code",
   "execution_count": 35,
   "id": "6502adb2",
   "metadata": {},
   "outputs": [],
   "source": [
    "import asyncio\n",
    "from playwright import async_api\n",
    "from playwright.async_api import async_playwright\n",
    "\n",
    "async def test_browser():\n",
    "    async with async_api.async_playwright() as p:\n",
    "        browser = await p.chromium.launch(headless=True)\n",
    "        page = await browser.new_page()\n",
    "        await page.goto('https://example.com')\n",
    "        print(f'Title: {await page.title()}')\n",
    "        await browser.close()\n",
    "\n"
   ]
  },
  {
   "cell_type": "code",
   "execution_count": 38,
   "id": "8202f697",
   "metadata": {},
   "outputs": [
    {
     "ename": "NotImplementedError",
     "evalue": "",
     "output_type": "error",
     "traceback": [
      "\u001b[31m---------------------------------------------------------------------------\u001b[39m",
      "\u001b[31mNotImplementedError\u001b[39m                       Traceback (most recent call last)",
      "\u001b[36mCell\u001b[39m\u001b[36m \u001b[39m\u001b[32mIn[38]\u001b[39m\u001b[32m, line 1\u001b[39m\n\u001b[32m----> \u001b[39m\u001b[32m1\u001b[39m playwright = \u001b[38;5;28;01mawait\u001b[39;00m async_playwright().start()\n\u001b[32m      2\u001b[39m browser = \u001b[38;5;28;01mawait\u001b[39;00m playwright.chromium.launch(headless=\u001b[38;5;28;01mFalse\u001b[39;00m)\n\u001b[32m      3\u001b[39m page = \u001b[38;5;28;01mawait\u001b[39;00m browser.new_page()\n",
      "\u001b[36mFile \u001b[39m\u001b[32mc:\\Users\\Kurt Salapare\\Desktop\\TCS_1\\Research Project\\research-project-source-code\\venv\\Lib\\site-packages\\playwright\\async_api\\_context_manager.py:51\u001b[39m, in \u001b[36mPlaywrightContextManager.start\u001b[39m\u001b[34m(self)\u001b[39m\n\u001b[32m     50\u001b[39m \u001b[38;5;28;01masync\u001b[39;00m \u001b[38;5;28;01mdef\u001b[39;00m\u001b[38;5;250m \u001b[39m\u001b[34mstart\u001b[39m(\u001b[38;5;28mself\u001b[39m) -> AsyncPlaywright:\n\u001b[32m---> \u001b[39m\u001b[32m51\u001b[39m     \u001b[38;5;28;01mreturn\u001b[39;00m \u001b[38;5;28;01mawait\u001b[39;00m \u001b[38;5;28mself\u001b[39m.\u001b[34m__aenter__\u001b[39m()\n",
      "\u001b[36mFile \u001b[39m\u001b[32mc:\\Users\\Kurt Salapare\\Desktop\\TCS_1\\Research Project\\research-project-source-code\\venv\\Lib\\site-packages\\playwright\\async_api\\_context_manager.py:46\u001b[39m, in \u001b[36mPlaywrightContextManager.__aenter__\u001b[39m\u001b[34m(self)\u001b[39m\n\u001b[32m     44\u001b[39m \u001b[38;5;28;01mif\u001b[39;00m \u001b[38;5;129;01mnot\u001b[39;00m playwright_future.done():\n\u001b[32m     45\u001b[39m     playwright_future.cancel()\n\u001b[32m---> \u001b[39m\u001b[32m46\u001b[39m playwright = AsyncPlaywright(\u001b[38;5;28;43mnext\u001b[39;49m\u001b[43m(\u001b[49m\u001b[38;5;28;43miter\u001b[39;49m\u001b[43m(\u001b[49m\u001b[43mdone\u001b[49m\u001b[43m)\u001b[49m\u001b[43m)\u001b[49m\u001b[43m.\u001b[49m\u001b[43mresult\u001b[49m\u001b[43m(\u001b[49m\u001b[43m)\u001b[49m)\n\u001b[32m     47\u001b[39m playwright.stop = \u001b[38;5;28mself\u001b[39m.\u001b[34m__aexit__\u001b[39m  \u001b[38;5;66;03m# type: ignore\u001b[39;00m\n\u001b[32m     48\u001b[39m \u001b[38;5;28;01mreturn\u001b[39;00m playwright\n",
      "\u001b[36mFile \u001b[39m\u001b[32m~\\AppData\\Local\\Programs\\Python\\Python312\\Lib\\asyncio\\futures.py:202\u001b[39m, in \u001b[36mFuture.result\u001b[39m\u001b[34m(self)\u001b[39m\n\u001b[32m    200\u001b[39m \u001b[38;5;28mself\u001b[39m.__log_traceback = \u001b[38;5;28;01mFalse\u001b[39;00m\n\u001b[32m    201\u001b[39m \u001b[38;5;28;01mif\u001b[39;00m \u001b[38;5;28mself\u001b[39m._exception \u001b[38;5;129;01mis\u001b[39;00m \u001b[38;5;129;01mnot\u001b[39;00m \u001b[38;5;28;01mNone\u001b[39;00m:\n\u001b[32m--> \u001b[39m\u001b[32m202\u001b[39m     \u001b[38;5;28;01mraise\u001b[39;00m \u001b[38;5;28mself\u001b[39m._exception.with_traceback(\u001b[38;5;28mself\u001b[39m._exception_tb)\n\u001b[32m    203\u001b[39m \u001b[38;5;28;01mreturn\u001b[39;00m \u001b[38;5;28mself\u001b[39m._result\n",
      "\u001b[36mFile \u001b[39m\u001b[32mc:\\Users\\Kurt Salapare\\Desktop\\TCS_1\\Research Project\\research-project-source-code\\venv\\Lib\\site-packages\\playwright\\_impl\\_transport.py:120\u001b[39m, in \u001b[36mPipeTransport.connect\u001b[39m\u001b[34m(self)\u001b[39m\n\u001b[32m    117\u001b[39m         startupinfo.wShowWindow = subprocess.SW_HIDE\n\u001b[32m    119\u001b[39m     executable_path, entrypoint_path = compute_driver_executable()\n\u001b[32m--> \u001b[39m\u001b[32m120\u001b[39m     \u001b[38;5;28mself\u001b[39m._proc = \u001b[38;5;28;01mawait\u001b[39;00m asyncio.create_subprocess_exec(\n\u001b[32m    121\u001b[39m         executable_path,\n\u001b[32m    122\u001b[39m         entrypoint_path,\n\u001b[32m    123\u001b[39m         \u001b[33m\"\u001b[39m\u001b[33mrun-driver\u001b[39m\u001b[33m\"\u001b[39m,\n\u001b[32m    124\u001b[39m         stdin=asyncio.subprocess.PIPE,\n\u001b[32m    125\u001b[39m         stdout=asyncio.subprocess.PIPE,\n\u001b[32m    126\u001b[39m         stderr=_get_stderr_fileno(),\n\u001b[32m    127\u001b[39m         limit=\u001b[32m32768\u001b[39m,\n\u001b[32m    128\u001b[39m         env=env,\n\u001b[32m    129\u001b[39m         startupinfo=startupinfo,\n\u001b[32m    130\u001b[39m     )\n\u001b[32m    131\u001b[39m \u001b[38;5;28;01mexcept\u001b[39;00m \u001b[38;5;167;01mException\u001b[39;00m \u001b[38;5;28;01mas\u001b[39;00m exc:\n\u001b[32m    132\u001b[39m     \u001b[38;5;28mself\u001b[39m.on_error_future.set_exception(exc)\n",
      "\u001b[36mFile \u001b[39m\u001b[32m~\\AppData\\Local\\Programs\\Python\\Python312\\Lib\\asyncio\\subprocess.py:224\u001b[39m, in \u001b[36mcreate_subprocess_exec\u001b[39m\u001b[34m(program, stdin, stdout, stderr, limit, *args, **kwds)\u001b[39m\n\u001b[32m    221\u001b[39m loop = events.get_running_loop()\n\u001b[32m    222\u001b[39m protocol_factory = \u001b[38;5;28;01mlambda\u001b[39;00m: SubprocessStreamProtocol(limit=limit,\n\u001b[32m    223\u001b[39m                                                     loop=loop)\n\u001b[32m--> \u001b[39m\u001b[32m224\u001b[39m transport, protocol = \u001b[38;5;28;01mawait\u001b[39;00m loop.subprocess_exec(\n\u001b[32m    225\u001b[39m     protocol_factory,\n\u001b[32m    226\u001b[39m     program, *args,\n\u001b[32m    227\u001b[39m     stdin=stdin, stdout=stdout,\n\u001b[32m    228\u001b[39m     stderr=stderr, **kwds)\n\u001b[32m    229\u001b[39m \u001b[38;5;28;01mreturn\u001b[39;00m Process(transport, protocol, loop)\n",
      "\u001b[36mFile \u001b[39m\u001b[32m~\\AppData\\Local\\Programs\\Python\\Python312\\Lib\\asyncio\\base_events.py:1756\u001b[39m, in \u001b[36mBaseEventLoop.subprocess_exec\u001b[39m\u001b[34m(self, protocol_factory, program, stdin, stdout, stderr, universal_newlines, shell, bufsize, encoding, errors, text, *args, **kwargs)\u001b[39m\n\u001b[32m   1754\u001b[39m     debug_log = \u001b[33mf\u001b[39m\u001b[33m'\u001b[39m\u001b[33mexecute program \u001b[39m\u001b[38;5;132;01m{\u001b[39;00mprogram\u001b[38;5;132;01m!r}\u001b[39;00m\u001b[33m'\u001b[39m\n\u001b[32m   1755\u001b[39m     \u001b[38;5;28mself\u001b[39m._log_subprocess(debug_log, stdin, stdout, stderr)\n\u001b[32m-> \u001b[39m\u001b[32m1756\u001b[39m transport = \u001b[38;5;28;01mawait\u001b[39;00m \u001b[38;5;28mself\u001b[39m._make_subprocess_transport(\n\u001b[32m   1757\u001b[39m     protocol, popen_args, \u001b[38;5;28;01mFalse\u001b[39;00m, stdin, stdout, stderr,\n\u001b[32m   1758\u001b[39m     bufsize, **kwargs)\n\u001b[32m   1759\u001b[39m \u001b[38;5;28;01mif\u001b[39;00m \u001b[38;5;28mself\u001b[39m._debug \u001b[38;5;129;01mand\u001b[39;00m debug_log \u001b[38;5;129;01mis\u001b[39;00m \u001b[38;5;129;01mnot\u001b[39;00m \u001b[38;5;28;01mNone\u001b[39;00m:\n\u001b[32m   1760\u001b[39m     logger.info(\u001b[33m'\u001b[39m\u001b[38;5;132;01m%s\u001b[39;00m\u001b[33m: \u001b[39m\u001b[38;5;132;01m%r\u001b[39;00m\u001b[33m'\u001b[39m, debug_log, transport)\n",
      "\u001b[36mFile \u001b[39m\u001b[32m~\\AppData\\Local\\Programs\\Python\\Python312\\Lib\\asyncio\\base_events.py:528\u001b[39m, in \u001b[36mBaseEventLoop._make_subprocess_transport\u001b[39m\u001b[34m(self, protocol, args, shell, stdin, stdout, stderr, bufsize, extra, **kwargs)\u001b[39m\n\u001b[32m    524\u001b[39m \u001b[38;5;28;01masync\u001b[39;00m \u001b[38;5;28;01mdef\u001b[39;00m\u001b[38;5;250m \u001b[39m\u001b[34m_make_subprocess_transport\u001b[39m(\u001b[38;5;28mself\u001b[39m, protocol, args, shell,\n\u001b[32m    525\u001b[39m                                      stdin, stdout, stderr, bufsize,\n\u001b[32m    526\u001b[39m                                      extra=\u001b[38;5;28;01mNone\u001b[39;00m, **kwargs):\n\u001b[32m    527\u001b[39m \u001b[38;5;250m    \u001b[39m\u001b[33;03m\"\"\"Create subprocess transport.\"\"\"\u001b[39;00m\n\u001b[32m--> \u001b[39m\u001b[32m528\u001b[39m     \u001b[38;5;28;01mraise\u001b[39;00m \u001b[38;5;167;01mNotImplementedError\u001b[39;00m\n",
      "\u001b[31mNotImplementedError\u001b[39m: "
     ]
    }
   ],
   "source": [
    "playwright = await async_playwright().start()\n",
    "browser = await playwright.chromium.launch(headless=False)\n",
    "page = await browser.new_page()\n",
    "await page.goto(\"https://example.com\")"
   ]
  }
 ],
 "metadata": {
  "kernelspec": {
   "display_name": "venv",
   "language": "python",
   "name": "python3"
  },
  "language_info": {
   "codemirror_mode": {
    "name": "ipython",
    "version": 3
   },
   "file_extension": ".py",
   "mimetype": "text/x-python",
   "name": "python",
   "nbconvert_exporter": "python",
   "pygments_lexer": "ipython3",
   "version": "3.12.10"
  }
 },
 "nbformat": 4,
 "nbformat_minor": 5
}
